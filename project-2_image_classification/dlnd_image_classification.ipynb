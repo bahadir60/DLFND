{
 "cells": [
  {
   "cell_type": "markdown",
   "metadata": {
    "collapsed": true
   },
   "source": [
    "# Image Classification\n",
    "In this project, you'll classify images from the [CIFAR-10 dataset](https://www.cs.toronto.edu/~kriz/cifar.html).  The dataset consists of airplanes, dogs, cats, and other objects. You'll preprocess the images, then train a convolutional neural network on all the samples. The images need to be normalized and the labels need to be one-hot encoded.  You'll get to apply what you learned and build a convolutional, max pooling, dropout, and fully connected layers.  At the end, you'll get to see your neural network's predictions on the sample images.\n",
    "## Get the Data\n",
    "Run the following cell to download the [CIFAR-10 dataset for python](https://www.cs.toronto.edu/~kriz/cifar-10-python.tar.gz)."
   ]
  },
  {
   "cell_type": "code",
   "execution_count": 1,
   "metadata": {},
   "outputs": [
    {
     "name": "stdout",
     "output_type": "stream",
     "text": [
      "All files found!\n"
     ]
    }
   ],
   "source": [
    "\"\"\"\n",
    "DON'T MODIFY ANYTHING IN THIS CELL THAT IS BELOW THIS LINE\n",
    "\"\"\"\n",
    "from urllib.request import urlretrieve\n",
    "from os.path import isfile, isdir\n",
    "from tqdm import tqdm\n",
    "import problem_unittests as tests\n",
    "import tarfile\n",
    "\n",
    "cifar10_dataset_folder_path = 'cifar-10-batches-py'\n",
    "\n",
    "# Use Floyd's cifar-10 dataset if present\n",
    "floyd_cifar10_location = '/input/cifar-10/python.tar.gz'\n",
    "if isfile(floyd_cifar10_location):\n",
    "    tar_gz_path = floyd_cifar10_location\n",
    "else:\n",
    "    tar_gz_path = 'cifar-10-python.tar.gz'\n",
    "\n",
    "class DLProgress(tqdm):\n",
    "    last_block = 0\n",
    "\n",
    "    def hook(self, block_num=1, block_size=1, total_size=None):\n",
    "        self.total = total_size\n",
    "        self.update((block_num - self.last_block) * block_size)\n",
    "        self.last_block = block_num\n",
    "\n",
    "if not isfile(tar_gz_path):\n",
    "    with DLProgress(unit='B', unit_scale=True, miniters=1, desc='CIFAR-10 Dataset') as pbar:\n",
    "        urlretrieve(\n",
    "            'https://www.cs.toronto.edu/~kriz/cifar-10-python.tar.gz',\n",
    "            tar_gz_path,\n",
    "            pbar.hook)\n",
    "\n",
    "if not isdir(cifar10_dataset_folder_path):\n",
    "    with tarfile.open(tar_gz_path) as tar:\n",
    "        tar.extractall()\n",
    "        tar.close()\n",
    "\n",
    "\n",
    "tests.test_folder_path(cifar10_dataset_folder_path)"
   ]
  },
  {
   "cell_type": "markdown",
   "metadata": {},
   "source": [
    "## Explore the Data\n",
    "The dataset is broken into batches to prevent your machine from running out of memory.  The CIFAR-10 dataset consists of 5 batches, named `data_batch_1`, `data_batch_2`, etc.. Each batch contains the labels and images that are one of the following:\n",
    "* airplane\n",
    "* automobile\n",
    "* bird\n",
    "* cat\n",
    "* deer\n",
    "* dog\n",
    "* frog\n",
    "* horse\n",
    "* ship\n",
    "* truck\n",
    "\n",
    "Understanding a dataset is part of making predictions on the data.  Play around with the code cell below by changing the `batch_id` and `sample_id`. The `batch_id` is the id for a batch (1-5). The `sample_id` is the id for a image and label pair in the batch.\n",
    "\n",
    "Ask yourself \"What are all possible labels?\", \"What is the range of values for the image data?\", \"Are the labels in order or random?\".  Answers to questions like these will help you preprocess the data and end up with better predictions."
   ]
  },
  {
   "cell_type": "code",
   "execution_count": 2,
   "metadata": {},
   "outputs": [
    {
     "name": "stdout",
     "output_type": "stream",
     "text": [
      "\n",
      "Stats of batch 2:\n",
      "Samples: 10000\n",
      "Label Counts: {0: 984, 1: 1007, 2: 1010, 3: 995, 4: 1010, 5: 988, 6: 1008, 7: 1026, 8: 987, 9: 985}\n",
      "First 20 Labels: [1, 6, 6, 8, 8, 3, 4, 6, 0, 6, 0, 3, 6, 6, 5, 4, 8, 3, 2, 6]\n",
      "\n",
      "Example of Image 334:\n",
      "Image - Min Value: 22 Max Value: 226\n",
      "Image - Shape: (32, 32, 3)\n",
      "Label - Label Id: 0 Name: airplane\n"
     ]
    },
    {
     "data": {
      "image/png": "[encoded data removed]",
      "text/plain": [
       "<matplotlib.figure.Figure at 0x7f3cef5016a0>"
      ]
     },
     "metadata": {
      "image/png": {
       "height": 250,
       "width": 253
      }
     },
     "output_type": "display_data"
    }
   ],
   "source": [
    "%matplotlib inline\n",
    "%config InlineBackend.figure_format = 'retina'\n",
    "\n",
    "import helper\n",
    "import numpy as np\n",
    "\n",
    "# Explore the dataset\n",
    "batch_id = 2\n",
    "sample_id = 334\n",
    "helper.display_stats(cifar10_dataset_folder_path, batch_id, sample_id)"
   ]
  },
  {
   "cell_type": "markdown",
   "metadata": {},
   "source": [
    "## Implement Preprocess Functions\n",
    "### Normalize\n",
    "In the cell below, implement the `normalize` function to take in image data, `x`, and return it as a normalized Numpy array. The values should be in the range of 0 to 1, inclusive.  The return object should be the same shape as `x`."
   ]
  },
  {
   "cell_type": "code",
   "execution_count": 3,
   "metadata": {},
   "outputs": [
    {
     "name": "stdout",
     "output_type": "stream",
     "text": [
      "Tests Passed\n"
     ]
    }
   ],
   "source": [
    "def normalize(x):\n",
    "    \"\"\"\n",
    "    Normalize a list of sample image data in the range of 0 to 1\n",
    "    : x: List of image data.  The image shape is (32, 32, 3)\n",
    "    : return: Numpy array of normalize data\n",
    "    \"\"\"\n",
    "    # TODO: Implement Function\n",
    "    # RGM min=0 and max =255 so return x/255 however written below long version\n",
    "    x_min = np.min(x)\n",
    "    x_max = np.max(x)\n",
    "    diff = x_max - x_min\n",
    "  \n",
    "    return (x-x_min)/diff \n",
    "\n",
    "\n",
    "\"\"\"\n",
    "DON'T MODIFY ANYTHING IN THIS CELL THAT IS BELOW THIS LINE\n",
    "\"\"\"\n",
    "tests.test_normalize(normalize)"
   ]
  },
  {
   "cell_type": "markdown",
   "metadata": {},
   "source": [
    "### One-hot encode\n",
    "Just like the previous code cell, you'll be implementing a function for preprocessing.  This time, you'll implement the `one_hot_encode` function. The input, `x`, are a list of labels.  Implement the function to return the list of labels as One-Hot encoded Numpy array.  The possible values for labels are 0 to 9. The one-hot encoding function should return the same encoding for each value between each call to `one_hot_encode`.  Make sure to save the map of encodings outside the function.\n",
    "\n",
    "Hint: Don't reinvent the wheel."
   ]
  },
  {
   "cell_type": "code",
   "execution_count": 5,
   "metadata": {},
   "outputs": [
    {
     "name": "stdout",
     "output_type": "stream",
     "text": [
      "Tests Passed\n"
     ]
    }
   ],
   "source": [
    "from sklearn import preprocessing\n",
    "\n",
    "lb = preprocessing.LabelBinarizer()\n",
    "value_labels = range(10)\n",
    "lb.fit(value_labels)\n",
    "\n",
    "def one_hot_encode(x):\n",
    "    \"\"\"\n",
    "    One hot encode a list of sample labels. Return a one-hot encoded vector for each label.\n",
    "    : x: List of sample Labels\n",
    "    : return: Numpy array of one-hot encoded labels\n",
    "    \"\"\"\n",
    "    \n",
    "    # TODO: Implement Function\n",
    "    return lb.transform(x)\n",
    "\n",
    "\n",
    "\"\"\"\n",
    "DON'T MODIFY ANYTHING IN THIS CELL THAT IS BELOW THIS LINE\n",
    "\"\"\"\n",
    "tests.test_one_hot_encode(one_hot_encode)"
   ]
  },
  {
   "cell_type": "markdown",
   "metadata": {},
   "source": [
    "### Randomize Data\n",
    "As you saw from exploring the data above, the order of the samples are randomized.  It doesn't hurt to randomize it again, but you don't need to for this dataset."
   ]
  },
  {
   "cell_type": "markdown",
   "metadata": {},
   "source": [
    "## Preprocess all the data and save it\n",
    "Running the code cell below will preprocess all the CIFAR-10 data and save it to file. The code below also uses 10% of the training data for validation."
   ]
  },
  {
   "cell_type": "code",
   "execution_count": 6,
   "metadata": {
    "collapsed": true
   },
   "outputs": [],
   "source": [
    "\"\"\"\n",
    "DON'T MODIFY ANYTHING IN THIS CELL\n",
    "\"\"\"\n",
    "# Preprocess Training, Validation, and Testing Data\n",
    "helper.preprocess_and_save_data(cifar10_dataset_folder_path, normalize, one_hot_encode)"
   ]
  },
  {
   "cell_type": "markdown",
   "metadata": {},
   "source": [
    "# Check Point\n",
    "This is your first checkpoint.  If you ever decide to come back to this notebook or have to restart the notebook, you can start from here.  The preprocessed data has been saved to disk."
   ]
  },
  {
   "cell_type": "code",
   "execution_count": 7,
   "metadata": {
    "collapsed": true
   },
   "outputs": [],
   "source": [
    "\"\"\"\n",
    "DON'T MODIFY ANYTHING IN THIS CELL\n",
    "\"\"\"\n",
    "import pickle\n",
    "import problem_unittests as tests\n",
    "import helper\n",
    "\n",
    "# Load the Preprocessed Validation data\n",
    "valid_features, valid_labels = pickle.load(open('preprocess_validation.p', mode='rb'))"
   ]
  },
  {
   "cell_type": "markdown",
   "metadata": {},
   "source": [
    "## Build the network\n",
    "For the neural network, you'll build each layer into a function.  Most of the code you've seen has been outside of functions. To test your code more thoroughly, we require that you put each layer in a function.  This allows us to give you better feedback and test for simple mistakes using our unittests before you submit your project.\n",
    "\n",
    ">**Note:** If you're finding it hard to dedicate enough time for this course each week, we've provided a small shortcut to this part of the project. In the next couple of problems, you'll have the option to use classes from the [TensorFlow Layers](https://www.tensorflow.org/api_docs/python/tf/layers) or [TensorFlow Layers (contrib)](https://www.tensorflow.org/api_guides/python/contrib.layers) packages to build each layer, except the layers you build in the \"Convolutional and Max Pooling Layer\" section.  TF Layers is similar to Keras's and TFLearn's abstraction to layers, so it's easy to pickup.\n",
    "\n",
    ">However, if you would like to get the most out of this course, try to solve all the problems _without_ using anything from the TF Layers packages. You **can** still use classes from other packages that happen to have the same name as ones you find in TF Layers! For example, instead of using the TF Layers version of the `conv2d` class, [tf.layers.conv2d](https://www.tensorflow.org/api_docs/python/tf/layers/conv2d), you would want to use the TF Neural Network version of `conv2d`, [tf.nn.conv2d](https://www.tensorflow.org/api_docs/python/tf/nn/conv2d). \n",
    "\n",
    "Let's begin!\n",
    "\n",
    "### Input\n",
    "The neural network needs to read the image data, one-hot encoded labels, and dropout keep probability. Implement the following functions\n",
    "* Implement `neural_net_image_input`\n",
    " * Return a [TF Placeholder](https://www.tensorflow.org/api_docs/python/tf/placeholder)\n",
    " * Set the shape using `image_shape` with batch size set to `None`.\n",
    " * Name the TensorFlow placeholder \"x\" using the TensorFlow `name` parameter in the [TF Placeholder](https://www.tensorflow.org/api_docs/python/tf/placeholder).\n",
    "* Implement `neural_net_label_input`\n",
    " * Return a [TF Placeholder](https://www.tensorflow.org/api_docs/python/tf/placeholder)\n",
    " * Set the shape using `n_classes` with batch size set to `None`.\n",
    " * Name the TensorFlow placeholder \"y\" using the TensorFlow `name` parameter in the [TF Placeholder](https://www.tensorflow.org/api_docs/python/tf/placeholder).\n",
    "* Implement `neural_net_keep_prob_input`\n",
    " * Return a [TF Placeholder](https://www.tensorflow.org/api_docs/python/tf/placeholder) for dropout keep probability.\n",
    " * Name the TensorFlow placeholder \"keep_prob\" using the TensorFlow `name` parameter in the [TF Placeholder](https://www.tensorflow.org/api_docs/python/tf/placeholder).\n",
    "\n",
    "These names will be used at the end of the project to load your saved model.\n",
    "\n",
    "Note: `None` for shapes in TensorFlow allow for a dynamic size."
   ]
  },
  {
   "cell_type": "code",
   "execution_count": 8,
   "metadata": {},
   "outputs": [
    {
     "name": "stdout",
     "output_type": "stream",
     "text": [
      "Image Input Tests Passed.\n",
      "Label Input Tests Passed.\n",
      "Keep Prob Tests Passed.\n"
     ]
    }
   ],
   "source": [
    "import tensorflow as tf\n",
    "\n",
    "def neural_net_image_input(image_shape):\n",
    "    \"\"\"\n",
    "    Return a Tensor for a batch of image input\n",
    "    : image_shape: Shape of the images\n",
    "    : return: Tensor for image input.\n",
    "    \"\"\"\n",
    "    # TODO: Implement Function\n",
    "   \n",
    "    \n",
    "    return tf.placeholder(tf.float32, [None, *image_shape], name = 'x')\n",
    "\n",
    "\n",
    "def neural_net_label_input(n_classes):\n",
    "    \"\"\"\n",
    "    Return a Tensor for a batch of label input\n",
    "    : n_classes: Number of classes\n",
    "    : return: Tensor for label input.\n",
    "    \"\"\"\n",
    "    # TODO: Implement Function\n",
    "    return tf.placeholder(tf.float32, [None, n_classes], name='y')\n",
    "\n",
    "\n",
    "def neural_net_keep_prob_input():\n",
    "    \"\"\"\n",
    "    Return a Tensor for keep probability\n",
    "    : return: Tensor for keep probability.\n",
    "    \"\"\"\n",
    "    # TODO: Implement Function\n",
    "    return tf.placeholder(tf.float32, name='keep_prob')\n",
    "\n",
    "\n",
    "\"\"\"\n",
    "DON'T MODIFY ANYTHING IN THIS CELL THAT IS BELOW THIS LINE\n",
    "\"\"\"\n",
    "tf.reset_default_graph()\n",
    "tests.test_nn_image_inputs(neural_net_image_input)\n",
    "tests.test_nn_label_inputs(neural_net_label_input)\n",
    "tests.test_nn_keep_prob_inputs(neural_net_keep_prob_input)"
   ]
  },
  {
   "cell_type": "markdown",
   "metadata": {},
   "source": [
    "### Convolution and Max Pooling Layer\n",
    "Convolution layers have a lot of success with images. For this code cell, you should implement the function `conv2d_maxpool` to apply convolution then max pooling:\n",
    "* Create the weight and bias using `conv_ksize`, `conv_num_outputs` and the shape of `x_tensor`.\n",
    "* Apply a convolution to `x_tensor` using weight and `conv_strides`.\n",
    " * We recommend you use same padding, but you're welcome to use any padding.\n",
    "* Add bias\n",
    "* Add a nonlinear activation to the convolution.\n",
    "* Apply Max Pooling using `pool_ksize` and `pool_strides`.\n",
    " * We recommend you use same padding, but you're welcome to use any padding.\n",
    "\n",
    "**Note:** You **can't** use [TensorFlow Layers](https://www.tensorflow.org/api_docs/python/tf/layers) or [TensorFlow Layers (contrib)](https://www.tensorflow.org/api_guides/python/contrib.layers) for **this** layer, but you can still use TensorFlow's [Neural Network](https://www.tensorflow.org/api_docs/python/tf/nn) package. You may still use the shortcut option for all the **other** layers."
   ]
  },
  {
   "cell_type": "code",
   "execution_count": 9,
   "metadata": {},
   "outputs": [
    {
     "name": "stdout",
     "output_type": "stream",
     "text": [
      "Tests Passed\n"
     ]
    }
   ],
   "source": [
    "def conv2d_maxpool(x_tensor, conv_num_outputs, conv_ksize, conv_strides, pool_ksize, pool_strides):\n",
    "    \"\"\"\n",
    "    Apply convolution then max pooling to x_tensor\n",
    "    :param x_tensor: TensorFlow Tensor\n",
    "    :param conv_num_outputs: Number of outputs for the convolutional layer\n",
    "    :param conv_ksize: kernal size 2-D Tuple for the convolutional layer\n",
    "    :param conv_strides: Stride 2-D Tuple for convolution\n",
    "    :param pool_ksize: kernal size 2-D Tuple for pool\n",
    "    :param pool_strides: Stride 2-D Tuple for pool\n",
    "    : return: A tensor that represents convolution and max pooling of x_tensor\n",
    "    \"\"\"\n",
    "    # TODO: Implement Function\n",
    "    h = conv_ksize[0]\n",
    "    w = conv_ksize[1]\n",
    "    input_n = x_tensor.get_shape().as_list()[-1]\n",
    "\n",
    "    weight = tf.Variable(tf.truncated_normal([h, w, input_n, conv_num_outputs], stddev=0.1))\n",
    "    bias = tf.Variable(tf.constant(0.1, shape=[conv_num_outputs]))\n",
    "    \n",
    "    conv_layer = tf.nn.conv2d(x_tensor, weight, strides=[1, conv_strides[0], conv_strides[1], 1], padding = 'SAME')\n",
    "    conv_layer = tf.nn.bias_add(conv_layer, bias)\n",
    "    conv_layer = tf.nn.relu(conv_layer)\n",
    "    \n",
    "    conv_layer = tf.nn.max_pool(conv_layer, ksize= [1, pool_ksize[0], pool_ksize[1], 1], strides = [1, pool_strides[0], pool_strides[1], 1], padding = 'SAME')\n",
    "    \n",
    "    \n",
    "    return conv_layer \n",
    "\n",
    "\n",
    "\"\"\"\n",
    "DON'T MODIFY ANYTHING IN THIS CELL THAT IS BELOW THIS LINE\n",
    "\"\"\"\n",
    "tests.test_con_pool(conv2d_maxpool)"
   ]
  },
  {
   "cell_type": "markdown",
   "metadata": {},
   "source": [
    "### Flatten Layer\n",
    "Implement the `flatten` function to change the dimension of `x_tensor` from a 4-D tensor to a 2-D tensor.  The output should be the shape (*Batch Size*, *Flattened Image Size*). Shortcut option: you can use classes from the [TensorFlow Layers](https://www.tensorflow.org/api_docs/python/tf/layers) or [TensorFlow Layers (contrib)](https://www.tensorflow.org/api_guides/python/contrib.layers) packages for this layer. For more of a challenge, only use other TensorFlow packages."
   ]
  },
  {
   "cell_type": "code",
   "execution_count": 10,
   "metadata": {},
   "outputs": [
    {
     "name": "stdout",
     "output_type": "stream",
     "text": [
      "Tests Passed\n"
     ]
    }
   ],
   "source": [
    "def flatten(x_tensor):\n",
    "    \"\"\"\n",
    "    Flatten x_tensor to (Batch Size, Flattened Image Size)\n",
    "    : x_tensor: A tensor of size (Batch Size, ...), where ... are the image dimensions.\n",
    "    : return: A tensor of size (Batch Size, Flattened Image Size).\n",
    "    \"\"\"\n",
    "    # TODO: Implement Function\n",
    "   \n",
    "    elements = np.array(x_tensor.get_shape().as_list()[1:]).prod()\n",
    "    return tf.reshape(x_tensor, [-1, elements])\n",
    "\n",
    "\"\"\"\n",
    "DON'T MODIFY ANYTHING IN THIS CELL THAT IS BELOW THIS LINE\n",
    "\"\"\"\n",
    "tests.test_flatten(flatten)"
   ]
  },
  {
   "cell_type": "markdown",
   "metadata": {},
   "source": [
    "### Fully-Connected Layer\n",
    "Implement the `fully_conn` function to apply a fully connected layer to `x_tensor` with the shape (*Batch Size*, *num_outputs*). Shortcut option: you can use classes from the [TensorFlow Layers](https://www.tensorflow.org/api_docs/python/tf/layers) or [TensorFlow Layers (contrib)](https://www.tensorflow.org/api_guides/python/contrib.layers) packages for this layer. For more of a challenge, only use other TensorFlow packages."
   ]
  },
  {
   "cell_type": "code",
   "execution_count": 11,
   "metadata": {},
   "outputs": [
    {
     "name": "stdout",
     "output_type": "stream",
     "text": [
      "Tests Passed\n"
     ]
    }
   ],
   "source": [
    "def fully_conn(x_tensor, num_outputs):\n",
    "    \"\"\"\n",
    "    Apply a fully connected layer to x_tensor using weight and bias\n",
    "    : x_tensor: A 2-D tensor where the first dimension is batch size.\n",
    "    : num_outputs: The number of output that the new tensor should be.\n",
    "    : return: A 2-D tensor where the second dimension is num_outputs.\n",
    "    \"\"\"\n",
    "    # TODO: Implement Function\n",
    "    elements = np.array(x_tensor.get_shape().as_list()[1:]).prod()\n",
    "    \n",
    "    weight = tf.Variable(tf.truncated_normal([elements ,num_outputs], stddev = 0.1))\n",
    "    bias = tf.Variable(tf.constant(0.1, shape=[num_outputs]))\n",
    "\n",
    "    full_layer = tf.add(tf.matmul(x_tensor, weight), bias)\n",
    "    full_layer = tf.nn.relu(full_layer)\n",
    "    \n",
    "    \n",
    "    return full_layer\n",
    "\n",
    "\"\"\"\n",
    "DON'T MODIFY ANYTHING IN THIS CELL THAT IS BELOW THIS LINE\n",
    "\"\"\"\n",
    "tests.test_fully_conn(fully_conn)"
   ]
  },
  {
   "cell_type": "markdown",
   "metadata": {},
   "source": [
    "### Output Layer\n",
    "Implement the `output` function to apply a fully connected layer to `x_tensor` with the shape (*Batch Size*, *num_outputs*). Shortcut option: you can use classes from the [TensorFlow Layers](https://www.tensorflow.org/api_docs/python/tf/layers) or [TensorFlow Layers (contrib)](https://www.tensorflow.org/api_guides/python/contrib.layers) packages for this layer. For more of a challenge, only use other TensorFlow packages.\n",
    "\n",
    "**Note:** Activation, softmax, or cross entropy should **not** be applied to this."
   ]
  },
  {
   "cell_type": "code",
   "execution_count": 12,
   "metadata": {},
   "outputs": [
    {
     "name": "stdout",
     "output_type": "stream",
     "text": [
      "Tests Passed\n"
     ]
    }
   ],
   "source": [
    "def output(x_tensor, num_outputs):\n",
    "    \"\"\"\n",
    "    Apply a output layer to x_tensor using weight and bias\n",
    "    : x_tensor: A 2-D tensor where the first dimension is batch size.\n",
    "    : num_outputs: The number of output that the new tensor should be.\n",
    "    : return: A 2-D tensor where the second dimension is num_outputs.\n",
    "    \"\"\"\n",
    "    # TODO: Implement Function\n",
    "    \n",
    "    element = np.array(x_tensor.get_shape().as_list()[1:]).prod()\n",
    "    \n",
    "    weight = tf.Variable(tf.truncated_normal([element ,num_outputs], stddev=0.1))\n",
    "    bias = tf.Variable(tf.constant(0.1, shape=[num_outputs]))\n",
    "    \n",
    "    logits = tf.add(tf.matmul(x_tensor, weight), bias)\n",
    "    \n",
    "    return logits\n",
    "\n",
    "\n",
    "\"\"\"\n",
    "DON'T MODIFY ANYTHING IN THIS CELL THAT IS BELOW THIS LINE\n",
    "\"\"\"\n",
    "tests.test_output(output)"
   ]
  },
  {
   "cell_type": "markdown",
   "metadata": {},
   "source": [
    "### Create Convolutional Model\n",
    "Implement the function `conv_net` to create a convolutional neural network model. The function takes in a batch of images, `x`, and outputs logits.  Use the layers you created above to create this model:\n",
    "\n",
    "* Apply 1, 2, or 3 Convolution and Max Pool layers\n",
    "* Apply a Flatten Layer\n",
    "* Apply 1, 2, or 3 Fully Connected Layers\n",
    "* Apply an Output Layer\n",
    "* Return the output\n",
    "* Apply [TensorFlow's Dropout](https://www.tensorflow.org/api_docs/python/tf/nn/dropout) to one or more layers in the model using `keep_prob`. "
   ]
  },
  {
   "cell_type": "code",
   "execution_count": 18,
   "metadata": {},
   "outputs": [
    {
     "name": "stdout",
     "output_type": "stream",
     "text": [
      "Neural Network Built!\n"
     ]
    }
   ],
   "source": [
    "def conv_net(x, keep_prob):\n",
    "    \"\"\"\n",
    "    Create a convolutional neural network model\n",
    "    : x: Placeholder tensor that holds image data.\n",
    "    : keep_prob: Placeholder tensor that hold dropout keep probability.\n",
    "    : return: Tensor that represents logits\n",
    "    \"\"\"\n",
    "    # TODO: Apply 1, 2, or 3 Convolution and Max Pool layers\n",
    "    #    Play around with different number of outputs, kernel size and stride\n",
    "    # Function Definition from Above:\n",
    "    #    conv2d_maxpool(x_tensor, conv_num_outputs, conv_ksize, conv_strides, pool_ksize, pool_strides)\n",
    "    conv_num_outputs = 512    \n",
    "    conv_ksize = (5,5)\n",
    "    conv_strides = [2,2]\n",
    "    pool_ksize = [5,5]\n",
    "    pool_strides = [2,2]    \n",
    "    \n",
    "\n",
    "    conv_layer = conv2d_maxpool(x, conv_num_outputs, conv_ksize, conv_strides, pool_ksize, pool_strides)\n",
    "   \n",
    "    \n",
    "    # TODO: Apply a Flatten Layer\n",
    "    # Function Definition from Above:\n",
    "    flatten_lay = flatten(conv_layer)\n",
    "    \n",
    "    # TODO: Apply 1, 2, or 3 Fully Connected Layers\n",
    "    #    Play around with different number of outputs\n",
    "    # Function Definition from Above:\n",
    "    #   fully_conn(x_tensor, num_outputs)\n",
    "    fcl = fully_conn(flatten_lay, 1024) \n",
    "    flc = tf.nn.dropout(fcl, keep_prob = keep_prob)\n",
    "\n",
    "    # TODO: Apply an Output Layer\n",
    "    #    Set this to the number of classes\n",
    "    # Function Definition from Above:\n",
    "    #   output(x_tensor, num_outputs)\n",
    "    \n",
    "    out = output(flc, 10)\n",
    "    \n",
    "    \n",
    "    # TODO: return output\n",
    "    return out\n",
    "\n",
    "\n",
    "\"\"\"\n",
    "DON'T MODIFY ANYTHING IN THIS CELL THAT IS BELOW THIS LINE\n",
    "\"\"\"\n",
    "\n",
    "##############################\n",
    "## Build the Neural Network ##\n",
    "##############################\n",
    "\n",
    "# Remove previous weights, bias, inputs, etc..\n",
    "tf.reset_default_graph()\n",
    "\n",
    "# Inputs\n",
    "x = neural_net_image_input((32, 32, 3))\n",
    "y = neural_net_label_input(10)\n",
    "keep_prob = neural_net_keep_prob_input()\n",
    "\n",
    "# Model\n",
    "logits = conv_net(x, keep_prob)\n",
    "\n",
    "# Name logits Tensor, so that is can be loaded from disk after training\n",
    "logits = tf.identity(logits, name='logits')\n",
    "\n",
    "# Loss and Optimizer\n",
    "cost = tf.reduce_mean(tf.nn.softmax_cross_entropy_with_logits(logits=logits, labels=y))\n",
    "optimizer = tf.train.AdamOptimizer().minimize(cost)\n",
    "\n",
    "# Accuracy\n",
    "correct_pred = tf.equal(tf.argmax(logits, 1), tf.argmax(y, 1))\n",
    "accuracy = tf.reduce_mean(tf.cast(correct_pred, tf.float32), name='accuracy')\n",
    "\n",
    "tests.test_conv_net(conv_net)"
   ]
  },
  {
   "cell_type": "markdown",
   "metadata": {},
   "source": [
    "## Train the Neural Network\n",
    "### Single Optimization\n",
    "Implement the function `train_neural_network` to do a single optimization.  The optimization should use `optimizer` to optimize in `session` with a `feed_dict` of the following:\n",
    "* `x` for image input\n",
    "* `y` for labels\n",
    "* `keep_prob` for keep probability for dropout\n",
    "\n",
    "This function will be called for each batch, so `tf.global_variables_initializer()` has already been called.\n",
    "\n",
    "Note: Nothing needs to be returned. This function is only optimizing the neural network."
   ]
  },
  {
   "cell_type": "code",
   "execution_count": 19,
   "metadata": {},
   "outputs": [
    {
     "name": "stdout",
     "output_type": "stream",
     "text": [
      "Tests Passed\n"
     ]
    }
   ],
   "source": [
    "def train_neural_network(session, optimizer, keep_probability, feature_batch, label_batch):\n",
    "    \"\"\"\n",
    "    Optimize the session on a batch of images and labels\n",
    "    : session: Current TensorFlow session\n",
    "    : optimizer: TensorFlow optimizer function\n",
    "    : keep_probability: keep probability\n",
    "    : feature_batch: Batch of Numpy image data\n",
    "    : label_batch: Batch of Numpy label data\n",
    "    \"\"\"\n",
    "    # TODO: Implement Function\n",
    "    session.run(optimizer, feed_dict={x: feature_batch, y: label_batch, keep_prob : keep_probability})\n",
    "    \n",
    "    pass\n",
    "\n",
    "\n",
    "\"\"\"\n",
    "DON'T MODIFY ANYTHING IN THIS CELL THAT IS BELOW THIS LINE\n",
    "\"\"\"\n",
    "tests.test_train_nn(train_neural_network)"
   ]
  },
  {
   "cell_type": "markdown",
   "metadata": {},
   "source": [
    "### Show Stats\n",
    "Implement the function `print_stats` to print loss and validation accuracy.  Use the global variables `valid_features` and `valid_labels` to calculate validation accuracy.  Use a keep probability of `1.0` to calculate the loss and validation accuracy."
   ]
  },
  {
   "cell_type": "code",
   "execution_count": 23,
   "metadata": {
    "collapsed": true
   },
   "outputs": [],
   "source": [
    "def print_stats(session, feature_batch, label_batch, cost, accuracy):\n",
    "    \"\"\"\n",
    "    Print information about loss and validation accuracy\n",
    "    : session: Current TensorFlow session\n",
    "    : feature_batch: Batch of Numpy image data\n",
    "    : label_batch: Batch of Numpy label data\n",
    "    : cost: TensorFlow cost function\n",
    "    : accuracy: TensorFlow accuracy function\n",
    "    \"\"\"\n",
    "    # TODO: Implement Function\n",
    "    \n",
    "    loss = session.run(cost, feed_dict={x : feature_batch, y : label_batch, keep_prob : 1.0 })\n",
    "    valid_accuracy = session.run(accuracy, feed_dict = {x: valid_features, y:valid_labels, keep_prob : 1.0 })\n",
    "    print('Loss={:.6f} Accuracy={:.4f}'.format(loss, valid_accuracy))"
   ]
  },
  {
   "cell_type": "markdown",
   "metadata": {},
   "source": [
    "### Hyperparameters\n",
    "Tune the following parameters:\n",
    "* Set `epochs` to the number of iterations until the network stops learning or start overfitting\n",
    "* Set `batch_size` to the highest number that your machine has memory for.  Most people set them to common sizes of memory:\n",
    " * 64\n",
    " * 128\n",
    " * 256\n",
    " * ...\n",
    "* Set `keep_probability` to the probability of keeping a node using dropout"
   ]
  },
  {
   "cell_type": "code",
   "execution_count": 24,
   "metadata": {
    "collapsed": true
   },
   "outputs": [],
   "source": [
    "# TODO: Tune Parameters\n",
    "epochs = 50\n",
    "batch_size = 256\n",
    "keep_probability = 0.5"
   ]
  },
  {
   "cell_type": "markdown",
   "metadata": {},
   "source": [
    "### Train on a Single CIFAR-10 Batch\n",
    "Instead of training the neural network on all the CIFAR-10 batches of data, let's use a single batch. This should save time while you iterate on the model to get a better accuracy.  Once the final validation accuracy is 50% or greater, run the model on all the data in the next section."
   ]
  },
  {
   "cell_type": "code",
   "execution_count": 25,
   "metadata": {},
   "outputs": [
    {
     "name": "stdout",
     "output_type": "stream",
     "text": [
      "Checking the Training on a Single Batch...\n",
      "Epoch  1, CIFAR-10 Batch 1:  Loss=2.043531 Accuracy=0.2304\n",
      "Epoch  2, CIFAR-10 Batch 1:  Loss=1.836219 Accuracy=0.3348\n",
      "Epoch  3, CIFAR-10 Batch 1:  Loss=1.712871 Accuracy=0.3848\n",
      "Epoch  4, CIFAR-10 Batch 1:  Loss=1.557999 Accuracy=0.4036\n",
      "Epoch  5, CIFAR-10 Batch 1:  Loss=1.465349 Accuracy=0.4312\n",
      "Epoch  6, CIFAR-10 Batch 1:  Loss=1.346658 Accuracy=0.4516\n",
      "Epoch  7, CIFAR-10 Batch 1:  Loss=1.257392 Accuracy=0.4742\n",
      "Epoch  8, CIFAR-10 Batch 1:  Loss=1.094238 Accuracy=0.5026\n",
      "Epoch  9, CIFAR-10 Batch 1:  Loss=1.071477 Accuracy=0.5114\n",
      "Epoch 10, CIFAR-10 Batch 1:  Loss=0.982046 Accuracy=0.5230\n",
      "Epoch 11, CIFAR-10 Batch 1:  Loss=0.954311 Accuracy=0.5122\n",
      "Epoch 12, CIFAR-10 Batch 1:  Loss=0.864786 Accuracy=0.5114\n",
      "Epoch 13, CIFAR-10 Batch 1:  Loss=0.805218 Accuracy=0.5162\n",
      "Epoch 14, CIFAR-10 Batch 1:  Loss=0.774933 Accuracy=0.5256\n",
      "Epoch 15, CIFAR-10 Batch 1:  Loss=0.670486 Accuracy=0.5610\n",
      "Epoch 16, CIFAR-10 Batch 1:  Loss=0.606689 Accuracy=0.5480\n",
      "Epoch 17, CIFAR-10 Batch 1:  Loss=0.619146 Accuracy=0.5562\n",
      "Epoch 18, CIFAR-10 Batch 1:  Loss=0.610079 Accuracy=0.5578\n",
      "Epoch 19, CIFAR-10 Batch 1:  Loss=0.522689 Accuracy=0.5648\n",
      "Epoch 20, CIFAR-10 Batch 1:  Loss=0.503215 Accuracy=0.5778\n",
      "Epoch 21, CIFAR-10 Batch 1:  Loss=0.469438 Accuracy=0.5714\n",
      "Epoch 22, CIFAR-10 Batch 1:  Loss=0.421613 Accuracy=0.5730\n",
      "Epoch 23, CIFAR-10 Batch 1:  Loss=0.414095 Accuracy=0.5620\n",
      "Epoch 24, CIFAR-10 Batch 1:  Loss=0.350290 Accuracy=0.5748\n",
      "Epoch 25, CIFAR-10 Batch 1:  Loss=0.367765 Accuracy=0.5794\n",
      "Epoch 26, CIFAR-10 Batch 1:  Loss=0.326553 Accuracy=0.6000\n",
      "Epoch 27, CIFAR-10 Batch 1:  Loss=0.311094 Accuracy=0.5826\n",
      "Epoch 28, CIFAR-10 Batch 1:  Loss=0.287997 Accuracy=0.5946\n",
      "Epoch 29, CIFAR-10 Batch 1:  Loss=0.276454 Accuracy=0.5982\n",
      "Epoch 30, CIFAR-10 Batch 1:  Loss=0.300281 Accuracy=0.5822\n",
      "Epoch 31, CIFAR-10 Batch 1:  Loss=0.226350 Accuracy=0.5908\n",
      "Epoch 32, CIFAR-10 Batch 1:  Loss=0.231704 Accuracy=0.6040\n",
      "Epoch 33, CIFAR-10 Batch 1:  Loss=0.211380 Accuracy=0.6048\n",
      "Epoch 34, CIFAR-10 Batch 1:  Loss=0.198432 Accuracy=0.5922\n",
      "Epoch 35, CIFAR-10 Batch 1:  Loss=0.207704 Accuracy=0.6156\n",
      "Epoch 36, CIFAR-10 Batch 1:  Loss=0.174623 Accuracy=0.5942\n",
      "Epoch 37, CIFAR-10 Batch 1:  Loss=0.160881 Accuracy=0.6128\n",
      "Epoch 38, CIFAR-10 Batch 1:  Loss=0.172382 Accuracy=0.5986\n",
      "Epoch 39, CIFAR-10 Batch 1:  Loss=0.164633 Accuracy=0.6178\n",
      "Epoch 40, CIFAR-10 Batch 1:  Loss=0.164931 Accuracy=0.6076\n",
      "Epoch 41, CIFAR-10 Batch 1:  Loss=0.135216 Accuracy=0.6130\n",
      "Epoch 42, CIFAR-10 Batch 1:  Loss=0.133755 Accuracy=0.6126\n",
      "Epoch 43, CIFAR-10 Batch 1:  Loss=0.124163 Accuracy=0.6168\n",
      "Epoch 44, CIFAR-10 Batch 1:  Loss=0.121967 Accuracy=0.6188\n",
      "Epoch 45, CIFAR-10 Batch 1:  Loss=0.121822 Accuracy=0.6192\n",
      "Epoch 46, CIFAR-10 Batch 1:  Loss=0.107330 Accuracy=0.6148\n",
      "Epoch 47, CIFAR-10 Batch 1:  Loss=0.103708 Accuracy=0.6042\n",
      "Epoch 48, CIFAR-10 Batch 1:  Loss=0.099723 Accuracy=0.6042\n",
      "Epoch 49, CIFAR-10 Batch 1:  Loss=0.079157 Accuracy=0.6058\n",
      "Epoch 50, CIFAR-10 Batch 1:  Loss=0.083469 Accuracy=0.6066\n"
     ]
    }
   ],
   "source": [
    "\"\"\"\n",
    "DON'T MODIFY ANYTHING IN THIS CELL\n",
    "\"\"\"\n",
    "print('Checking the Training on a Single Batch...')\n",
    "with tf.Session() as sess:\n",
    "    # Initializing the variables\n",
    "    sess.run(tf.global_variables_initializer())\n",
    "    \n",
    "    # Training cycle\n",
    "    for epoch in range(epochs):\n",
    "        batch_i = 1\n",
    "        for batch_features, batch_labels in helper.load_preprocess_training_batch(batch_i, batch_size):\n",
    "            train_neural_network(sess, optimizer, keep_probability, batch_features, batch_labels)\n",
    "        print('Epoch {:>2}, CIFAR-10 Batch {}:  '.format(epoch + 1, batch_i), end='')\n",
    "        print_stats(sess, batch_features, batch_labels, cost, accuracy)"
   ]
  },
  {
   "cell_type": "markdown",
   "metadata": {},
   "source": [
    "### Fully Train the Model\n",
    "Now that you got a good accuracy with a single CIFAR-10 batch, try it with all five batches."
   ]
  },
  {
   "cell_type": "code",
   "execution_count": 26,
   "metadata": {},
   "outputs": [
    {
     "name": "stdout",
     "output_type": "stream",
     "text": [
      "Training...\n",
      "Epoch  1, CIFAR-10 Batch 1:  Loss=2.121627 Accuracy=0.2132\n",
      "Epoch  1, CIFAR-10 Batch 2:  Loss=1.829013 Accuracy=0.3694\n",
      "Epoch  1, CIFAR-10 Batch 3:  Loss=1.648787 Accuracy=0.4038\n",
      "Epoch  1, CIFAR-10 Batch 4:  Loss=1.537719 Accuracy=0.4342\n",
      "Epoch  1, CIFAR-10 Batch 5:  Loss=1.478359 Accuracy=0.4690\n",
      "Epoch  2, CIFAR-10 Batch 1:  Loss=1.676684 Accuracy=0.4436\n",
      "Epoch  2, CIFAR-10 Batch 2:  Loss=1.401684 Accuracy=0.4786\n",
      "Epoch  2, CIFAR-10 Batch 3:  Loss=1.284865 Accuracy=0.4886\n",
      "Epoch  2, CIFAR-10 Batch 4:  Loss=1.330284 Accuracy=0.5142\n",
      "Epoch  2, CIFAR-10 Batch 5:  Loss=1.281555 Accuracy=0.5352\n",
      "Epoch  3, CIFAR-10 Batch 1:  Loss=1.317081 Accuracy=0.5014\n",
      "Epoch  3, CIFAR-10 Batch 2:  Loss=1.188786 Accuracy=0.5340\n",
      "Epoch  3, CIFAR-10 Batch 3:  Loss=1.096882 Accuracy=0.5326\n",
      "Epoch  3, CIFAR-10 Batch 4:  Loss=1.197011 Accuracy=0.5522\n",
      "Epoch  3, CIFAR-10 Batch 5:  Loss=1.162589 Accuracy=0.5606\n",
      "Epoch  4, CIFAR-10 Batch 1:  Loss=1.131142 Accuracy=0.5132\n",
      "Epoch  4, CIFAR-10 Batch 2:  Loss=1.054768 Accuracy=0.5584\n",
      "Epoch  4, CIFAR-10 Batch 3:  Loss=1.054810 Accuracy=0.5686\n",
      "Epoch  4, CIFAR-10 Batch 4:  Loss=1.047994 Accuracy=0.5762\n",
      "Epoch  4, CIFAR-10 Batch 5:  Loss=1.085963 Accuracy=0.5684\n",
      "Epoch  5, CIFAR-10 Batch 1:  Loss=0.976738 Accuracy=0.5690\n",
      "Epoch  5, CIFAR-10 Batch 2:  Loss=0.932628 Accuracy=0.5858\n",
      "Epoch  5, CIFAR-10 Batch 3:  Loss=0.862077 Accuracy=0.5806\n",
      "Epoch  5, CIFAR-10 Batch 4:  Loss=0.949688 Accuracy=0.5988\n",
      "Epoch  5, CIFAR-10 Batch 5:  Loss=0.962454 Accuracy=0.5980\n",
      "Epoch  6, CIFAR-10 Batch 1:  Loss=0.901944 Accuracy=0.6006\n",
      "Epoch  6, CIFAR-10 Batch 2:  Loss=0.864937 Accuracy=0.5994\n",
      "Epoch  6, CIFAR-10 Batch 3:  Loss=0.791263 Accuracy=0.6048\n",
      "Epoch  6, CIFAR-10 Batch 4:  Loss=0.909549 Accuracy=0.6156\n",
      "Epoch  6, CIFAR-10 Batch 5:  Loss=0.913341 Accuracy=0.6026\n",
      "Epoch  7, CIFAR-10 Batch 1:  Loss=0.815756 Accuracy=0.5692\n",
      "Epoch  7, CIFAR-10 Batch 2:  Loss=0.808711 Accuracy=0.6194\n",
      "Epoch  7, CIFAR-10 Batch 3:  Loss=0.680512 Accuracy=0.6166\n",
      "Epoch  7, CIFAR-10 Batch 4:  Loss=0.837182 Accuracy=0.6262\n",
      "Epoch  7, CIFAR-10 Batch 5:  Loss=0.836845 Accuracy=0.6262\n",
      "Epoch  8, CIFAR-10 Batch 1:  Loss=0.781969 Accuracy=0.6082\n",
      "Epoch  8, CIFAR-10 Batch 2:  Loss=0.702580 Accuracy=0.6260\n",
      "Epoch  8, CIFAR-10 Batch 3:  Loss=0.635820 Accuracy=0.6192\n",
      "Epoch  8, CIFAR-10 Batch 4:  Loss=0.741332 Accuracy=0.6280\n",
      "Epoch  8, CIFAR-10 Batch 5:  Loss=0.811725 Accuracy=0.6316\n",
      "Epoch  9, CIFAR-10 Batch 1:  Loss=0.712057 Accuracy=0.6128\n",
      "Epoch  9, CIFAR-10 Batch 2:  Loss=0.658327 Accuracy=0.6374\n",
      "Epoch  9, CIFAR-10 Batch 3:  Loss=0.578722 Accuracy=0.6360\n",
      "Epoch  9, CIFAR-10 Batch 4:  Loss=0.703632 Accuracy=0.6384\n",
      "Epoch  9, CIFAR-10 Batch 5:  Loss=0.739866 Accuracy=0.6414\n",
      "Epoch 10, CIFAR-10 Batch 1:  Loss=0.643402 Accuracy=0.6194\n",
      "Epoch 10, CIFAR-10 Batch 2:  Loss=0.603726 Accuracy=0.6380\n",
      "Epoch 10, CIFAR-10 Batch 3:  Loss=0.479179 Accuracy=0.6388\n",
      "Epoch 10, CIFAR-10 Batch 4:  Loss=0.667649 Accuracy=0.6388\n",
      "Epoch 10, CIFAR-10 Batch 5:  Loss=0.687324 Accuracy=0.6446\n",
      "Epoch 11, CIFAR-10 Batch 1:  Loss=0.665234 Accuracy=0.6072\n",
      "Epoch 11, CIFAR-10 Batch 2:  Loss=0.559896 Accuracy=0.6530\n",
      "Epoch 11, CIFAR-10 Batch 3:  Loss=0.504054 Accuracy=0.6464\n",
      "Epoch 11, CIFAR-10 Batch 4:  Loss=0.657723 Accuracy=0.6476\n",
      "Epoch 11, CIFAR-10 Batch 5:  Loss=0.549232 Accuracy=0.6470\n",
      "Epoch 12, CIFAR-10 Batch 1:  Loss=0.571674 Accuracy=0.6460\n",
      "Epoch 12, CIFAR-10 Batch 2:  Loss=0.534874 Accuracy=0.6654\n",
      "Epoch 12, CIFAR-10 Batch 3:  Loss=0.429240 Accuracy=0.6526\n",
      "Epoch 12, CIFAR-10 Batch 4:  Loss=0.580713 Accuracy=0.6568\n",
      "Epoch 12, CIFAR-10 Batch 5:  Loss=0.545061 Accuracy=0.6518\n",
      "Epoch 13, CIFAR-10 Batch 1:  Loss=0.560518 Accuracy=0.6512\n",
      "Epoch 13, CIFAR-10 Batch 2:  Loss=0.520214 Accuracy=0.6600\n",
      "Epoch 13, CIFAR-10 Batch 3:  Loss=0.384107 Accuracy=0.6650\n",
      "Epoch 13, CIFAR-10 Batch 4:  Loss=0.532773 Accuracy=0.6646\n",
      "Epoch 13, CIFAR-10 Batch 5:  Loss=0.489822 Accuracy=0.6596\n",
      "Epoch 14, CIFAR-10 Batch 1:  Loss=0.515501 Accuracy=0.6146\n",
      "Epoch 14, CIFAR-10 Batch 2:  Loss=0.515161 Accuracy=0.6596\n",
      "Epoch 14, CIFAR-10 Batch 3:  Loss=0.304392 Accuracy=0.6644\n",
      "Epoch 14, CIFAR-10 Batch 4:  Loss=0.513020 Accuracy=0.6638\n",
      "Epoch 14, CIFAR-10 Batch 5:  Loss=0.449568 Accuracy=0.6672\n",
      "Epoch 15, CIFAR-10 Batch 1:  Loss=0.483746 Accuracy=0.6256\n",
      "Epoch 15, CIFAR-10 Batch 2:  Loss=0.450116 Accuracy=0.6706\n",
      "Epoch 15, CIFAR-10 Batch 3:  Loss=0.331834 Accuracy=0.6536\n",
      "Epoch 15, CIFAR-10 Batch 4:  Loss=0.451921 Accuracy=0.6694\n",
      "Epoch 15, CIFAR-10 Batch 5:  Loss=0.435849 Accuracy=0.6678\n",
      "Epoch 16, CIFAR-10 Batch 1:  Loss=0.494580 Accuracy=0.6550\n",
      "Epoch 16, CIFAR-10 Batch 2:  Loss=0.408118 Accuracy=0.6666\n",
      "Epoch 16, CIFAR-10 Batch 3:  Loss=0.297447 Accuracy=0.6728\n",
      "Epoch 16, CIFAR-10 Batch 4:  Loss=0.423521 Accuracy=0.6632\n",
      "Epoch 16, CIFAR-10 Batch 5:  Loss=0.384755 Accuracy=0.6708\n",
      "Epoch 17, CIFAR-10 Batch 1:  Loss=0.412744 Accuracy=0.6534\n",
      "Epoch 17, CIFAR-10 Batch 2:  Loss=0.349100 Accuracy=0.6764\n",
      "Epoch 17, CIFAR-10 Batch 3:  Loss=0.265028 Accuracy=0.6690\n",
      "Epoch 17, CIFAR-10 Batch 4:  Loss=0.391945 Accuracy=0.6718\n",
      "Epoch 17, CIFAR-10 Batch 5:  Loss=0.368523 Accuracy=0.6750\n",
      "Epoch 18, CIFAR-10 Batch 1:  Loss=0.427659 Accuracy=0.6394\n",
      "Epoch 18, CIFAR-10 Batch 2:  Loss=0.336970 Accuracy=0.6778\n",
      "Epoch 18, CIFAR-10 Batch 3:  Loss=0.269970 Accuracy=0.6550\n",
      "Epoch 18, CIFAR-10 Batch 4:  Loss=0.401944 Accuracy=0.6710\n",
      "Epoch 18, CIFAR-10 Batch 5:  Loss=0.357611 Accuracy=0.6736\n",
      "Epoch 19, CIFAR-10 Batch 1:  Loss=0.354977 Accuracy=0.6452\n",
      "Epoch 19, CIFAR-10 Batch 2:  Loss=0.313363 Accuracy=0.6736\n",
      "Epoch 19, CIFAR-10 Batch 3:  Loss=0.223100 Accuracy=0.6700\n",
      "Epoch 19, CIFAR-10 Batch 4:  Loss=0.321985 Accuracy=0.6818\n",
      "Epoch 19, CIFAR-10 Batch 5:  Loss=0.337019 Accuracy=0.6840\n",
      "Epoch 20, CIFAR-10 Batch 1:  Loss=0.352691 Accuracy=0.6646\n",
      "Epoch 20, CIFAR-10 Batch 2:  Loss=0.274482 Accuracy=0.6806\n",
      "Epoch 20, CIFAR-10 Batch 3:  Loss=0.223066 Accuracy=0.6762\n",
      "Epoch 20, CIFAR-10 Batch 4:  Loss=0.303563 Accuracy=0.6792\n",
      "Epoch 20, CIFAR-10 Batch 5:  Loss=0.258342 Accuracy=0.6826\n",
      "Epoch 21, CIFAR-10 Batch 1:  Loss=0.298635 Accuracy=0.6738\n",
      "Epoch 21, CIFAR-10 Batch 2:  Loss=0.291690 Accuracy=0.6840\n",
      "Epoch 21, CIFAR-10 Batch 3:  Loss=0.181632 Accuracy=0.6642\n",
      "Epoch 21, CIFAR-10 Batch 4:  Loss=0.285940 Accuracy=0.6788\n",
      "Epoch 21, CIFAR-10 Batch 5:  Loss=0.276203 Accuracy=0.6706\n",
      "Epoch 22, CIFAR-10 Batch 1:  Loss=0.285610 Accuracy=0.6708\n",
      "Epoch 22, CIFAR-10 Batch 2:  Loss=0.255940 Accuracy=0.6838\n",
      "Epoch 22, CIFAR-10 Batch 3:  Loss=0.170964 Accuracy=0.6694\n",
      "Epoch 22, CIFAR-10 Batch 4:  Loss=0.300677 Accuracy=0.6750\n",
      "Epoch 22, CIFAR-10 Batch 5:  Loss=0.235200 Accuracy=0.6844\n",
      "Epoch 23, CIFAR-10 Batch 1:  Loss=0.287796 Accuracy=0.6770\n",
      "Epoch 23, CIFAR-10 Batch 2:  Loss=0.193560 Accuracy=0.6860\n",
      "Epoch 23, CIFAR-10 Batch 3:  Loss=0.158901 Accuracy=0.6812\n",
      "Epoch 23, CIFAR-10 Batch 4:  Loss=0.249409 Accuracy=0.6788\n",
      "Epoch 23, CIFAR-10 Batch 5:  Loss=0.236221 Accuracy=0.6852\n",
      "Epoch 24, CIFAR-10 Batch 1:  Loss=0.234982 Accuracy=0.6732\n",
      "Epoch 24, CIFAR-10 Batch 2:  Loss=0.210424 Accuracy=0.6888\n",
      "Epoch 24, CIFAR-10 Batch 3:  Loss=0.139279 Accuracy=0.6756\n",
      "Epoch 24, CIFAR-10 Batch 4:  Loss=0.246091 Accuracy=0.6810\n",
      "Epoch 24, CIFAR-10 Batch 5:  Loss=0.188110 Accuracy=0.6768\n",
      "Epoch 25, CIFAR-10 Batch 1:  Loss=0.227581 Accuracy=0.6852\n",
      "Epoch 25, CIFAR-10 Batch 2:  Loss=0.207407 Accuracy=0.6886\n",
      "Epoch 25, CIFAR-10 Batch 3:  Loss=0.147749 Accuracy=0.6892\n",
      "Epoch 25, CIFAR-10 Batch 4:  Loss=0.245773 Accuracy=0.6870\n",
      "Epoch 25, CIFAR-10 Batch 5:  Loss=0.188734 Accuracy=0.6836\n",
      "Epoch 26, CIFAR-10 Batch 1:  Loss=0.230377 Accuracy=0.6640\n",
      "Epoch 26, CIFAR-10 Batch 2:  Loss=0.157241 Accuracy=0.6858\n",
      "Epoch 26, CIFAR-10 Batch 3:  Loss=0.118444 Accuracy=0.6942\n",
      "Epoch 26, CIFAR-10 Batch 4:  Loss=0.194666 Accuracy=0.6874\n",
      "Epoch 26, CIFAR-10 Batch 5:  Loss=0.160899 Accuracy=0.6868\n",
      "Epoch 27, CIFAR-10 Batch 1:  Loss=0.167756 Accuracy=0.6844\n",
      "Epoch 27, CIFAR-10 Batch 2:  Loss=0.155788 Accuracy=0.6930\n",
      "Epoch 27, CIFAR-10 Batch 3:  Loss=0.105934 Accuracy=0.6866\n",
      "Epoch 27, CIFAR-10 Batch 4:  Loss=0.187095 Accuracy=0.6902\n",
      "Epoch 27, CIFAR-10 Batch 5:  Loss=0.156572 Accuracy=0.6876\n",
      "Epoch 28, CIFAR-10 Batch 1:  Loss=0.177948 Accuracy=0.6968\n",
      "Epoch 28, CIFAR-10 Batch 2:  Loss=0.153202 Accuracy=0.6938\n",
      "Epoch 28, CIFAR-10 Batch 3:  Loss=0.077826 Accuracy=0.6926\n",
      "Epoch 28, CIFAR-10 Batch 4:  Loss=0.187417 Accuracy=0.6860\n"
     ]
    },
    {
     "name": "stdout",
     "output_type": "stream",
     "text": [
      "Epoch 28, CIFAR-10 Batch 5:  Loss=0.114683 Accuracy=0.6974\n",
      "Epoch 29, CIFAR-10 Batch 1:  Loss=0.156642 Accuracy=0.6782\n",
      "Epoch 29, CIFAR-10 Batch 2:  Loss=0.133704 Accuracy=0.6972\n",
      "Epoch 29, CIFAR-10 Batch 3:  Loss=0.081060 Accuracy=0.6740\n",
      "Epoch 29, CIFAR-10 Batch 4:  Loss=0.140953 Accuracy=0.6996\n",
      "Epoch 29, CIFAR-10 Batch 5:  Loss=0.122965 Accuracy=0.6902\n",
      "Epoch 30, CIFAR-10 Batch 1:  Loss=0.149270 Accuracy=0.6858\n",
      "Epoch 30, CIFAR-10 Batch 2:  Loss=0.149663 Accuracy=0.6920\n",
      "Epoch 30, CIFAR-10 Batch 3:  Loss=0.053798 Accuracy=0.6910\n",
      "Epoch 30, CIFAR-10 Batch 4:  Loss=0.125459 Accuracy=0.6920\n",
      "Epoch 30, CIFAR-10 Batch 5:  Loss=0.121957 Accuracy=0.6858\n",
      "Epoch 31, CIFAR-10 Batch 1:  Loss=0.134939 Accuracy=0.6818\n",
      "Epoch 31, CIFAR-10 Batch 2:  Loss=0.119053 Accuracy=0.6906\n",
      "Epoch 31, CIFAR-10 Batch 3:  Loss=0.086280 Accuracy=0.6778\n",
      "Epoch 31, CIFAR-10 Batch 4:  Loss=0.144481 Accuracy=0.7014\n",
      "Epoch 31, CIFAR-10 Batch 5:  Loss=0.117815 Accuracy=0.6994\n",
      "Epoch 32, CIFAR-10 Batch 1:  Loss=0.134519 Accuracy=0.6738\n",
      "Epoch 32, CIFAR-10 Batch 2:  Loss=0.125089 Accuracy=0.6964\n",
      "Epoch 32, CIFAR-10 Batch 3:  Loss=0.056268 Accuracy=0.6876\n",
      "Epoch 32, CIFAR-10 Batch 4:  Loss=0.108823 Accuracy=0.6978\n",
      "Epoch 32, CIFAR-10 Batch 5:  Loss=0.106055 Accuracy=0.7030\n",
      "Epoch 33, CIFAR-10 Batch 1:  Loss=0.147633 Accuracy=0.6884\n",
      "Epoch 33, CIFAR-10 Batch 2:  Loss=0.114749 Accuracy=0.6862\n",
      "Epoch 33, CIFAR-10 Batch 3:  Loss=0.041794 Accuracy=0.6832\n",
      "Epoch 33, CIFAR-10 Batch 4:  Loss=0.113631 Accuracy=0.6972\n",
      "Epoch 33, CIFAR-10 Batch 5:  Loss=0.071797 Accuracy=0.6986\n",
      "Epoch 34, CIFAR-10 Batch 1:  Loss=0.108923 Accuracy=0.6922\n",
      "Epoch 34, CIFAR-10 Batch 2:  Loss=0.106147 Accuracy=0.7008\n",
      "Epoch 34, CIFAR-10 Batch 3:  Loss=0.059111 Accuracy=0.6846\n",
      "Epoch 34, CIFAR-10 Batch 4:  Loss=0.088641 Accuracy=0.6978\n",
      "Epoch 34, CIFAR-10 Batch 5:  Loss=0.080034 Accuracy=0.7064\n",
      "Epoch 35, CIFAR-10 Batch 1:  Loss=0.100277 Accuracy=0.6984\n",
      "Epoch 35, CIFAR-10 Batch 2:  Loss=0.111804 Accuracy=0.6906\n",
      "Epoch 35, CIFAR-10 Batch 3:  Loss=0.057501 Accuracy=0.6688\n",
      "Epoch 35, CIFAR-10 Batch 4:  Loss=0.088399 Accuracy=0.6860\n",
      "Epoch 35, CIFAR-10 Batch 5:  Loss=0.068902 Accuracy=0.7066\n",
      "Epoch 36, CIFAR-10 Batch 1:  Loss=0.111825 Accuracy=0.6908\n",
      "Epoch 36, CIFAR-10 Batch 2:  Loss=0.077916 Accuracy=0.7026\n",
      "Epoch 36, CIFAR-10 Batch 3:  Loss=0.043845 Accuracy=0.6818\n",
      "Epoch 36, CIFAR-10 Batch 4:  Loss=0.076682 Accuracy=0.6934\n",
      "Epoch 36, CIFAR-10 Batch 5:  Loss=0.090539 Accuracy=0.6926\n",
      "Epoch 37, CIFAR-10 Batch 1:  Loss=0.092585 Accuracy=0.7022\n",
      "Epoch 37, CIFAR-10 Batch 2:  Loss=0.066907 Accuracy=0.6886\n",
      "Epoch 37, CIFAR-10 Batch 3:  Loss=0.053777 Accuracy=0.6680\n",
      "Epoch 37, CIFAR-10 Batch 4:  Loss=0.060650 Accuracy=0.6904\n",
      "Epoch 37, CIFAR-10 Batch 5:  Loss=0.052400 Accuracy=0.7014\n",
      "Epoch 38, CIFAR-10 Batch 1:  Loss=0.085005 Accuracy=0.7050\n",
      "Epoch 38, CIFAR-10 Batch 2:  Loss=0.058252 Accuracy=0.6936\n",
      "Epoch 38, CIFAR-10 Batch 3:  Loss=0.035033 Accuracy=0.6836\n",
      "Epoch 38, CIFAR-10 Batch 4:  Loss=0.061617 Accuracy=0.7034\n",
      "Epoch 38, CIFAR-10 Batch 5:  Loss=0.065751 Accuracy=0.6988\n",
      "Epoch 39, CIFAR-10 Batch 1:  Loss=0.085887 Accuracy=0.6970\n",
      "Epoch 39, CIFAR-10 Batch 2:  Loss=0.074836 Accuracy=0.6938\n",
      "Epoch 39, CIFAR-10 Batch 3:  Loss=0.035763 Accuracy=0.6810\n",
      "Epoch 39, CIFAR-10 Batch 4:  Loss=0.052006 Accuracy=0.6976\n",
      "Epoch 39, CIFAR-10 Batch 5:  Loss=0.051072 Accuracy=0.6980\n",
      "Epoch 40, CIFAR-10 Batch 1:  Loss=0.071683 Accuracy=0.6980\n",
      "Epoch 40, CIFAR-10 Batch 2:  Loss=0.051263 Accuracy=0.7038\n",
      "Epoch 40, CIFAR-10 Batch 3:  Loss=0.015579 Accuracy=0.6926\n",
      "Epoch 40, CIFAR-10 Batch 4:  Loss=0.067788 Accuracy=0.6956\n",
      "Epoch 40, CIFAR-10 Batch 5:  Loss=0.039326 Accuracy=0.7046\n",
      "Epoch 41, CIFAR-10 Batch 1:  Loss=0.069993 Accuracy=0.7036\n",
      "Epoch 41, CIFAR-10 Batch 2:  Loss=0.051156 Accuracy=0.6958\n",
      "Epoch 41, CIFAR-10 Batch 3:  Loss=0.024391 Accuracy=0.6822\n",
      "Epoch 41, CIFAR-10 Batch 4:  Loss=0.042540 Accuracy=0.6932\n",
      "Epoch 41, CIFAR-10 Batch 5:  Loss=0.038546 Accuracy=0.7078\n",
      "Epoch 42, CIFAR-10 Batch 1:  Loss=0.085270 Accuracy=0.6964\n",
      "Epoch 42, CIFAR-10 Batch 2:  Loss=0.048662 Accuracy=0.6890\n",
      "Epoch 42, CIFAR-10 Batch 3:  Loss=0.044939 Accuracy=0.6638\n",
      "Epoch 42, CIFAR-10 Batch 4:  Loss=0.042175 Accuracy=0.6942\n",
      "Epoch 42, CIFAR-10 Batch 5:  Loss=0.034621 Accuracy=0.6938\n",
      "Epoch 43, CIFAR-10 Batch 1:  Loss=0.060968 Accuracy=0.6912\n",
      "Epoch 43, CIFAR-10 Batch 2:  Loss=0.063174 Accuracy=0.6980\n",
      "Epoch 43, CIFAR-10 Batch 3:  Loss=0.028616 Accuracy=0.6760\n",
      "Epoch 43, CIFAR-10 Batch 4:  Loss=0.038267 Accuracy=0.6954\n",
      "Epoch 43, CIFAR-10 Batch 5:  Loss=0.033143 Accuracy=0.7052\n",
      "Epoch 44, CIFAR-10 Batch 1:  Loss=0.062271 Accuracy=0.6970\n",
      "Epoch 44, CIFAR-10 Batch 2:  Loss=0.048921 Accuracy=0.6958\n",
      "Epoch 44, CIFAR-10 Batch 3:  Loss=0.019027 Accuracy=0.6830\n",
      "Epoch 44, CIFAR-10 Batch 4:  Loss=0.041899 Accuracy=0.7010\n",
      "Epoch 44, CIFAR-10 Batch 5:  Loss=0.027078 Accuracy=0.6982\n",
      "Epoch 45, CIFAR-10 Batch 1:  Loss=0.055477 Accuracy=0.6890\n",
      "Epoch 45, CIFAR-10 Batch 2:  Loss=0.036946 Accuracy=0.6878\n",
      "Epoch 45, CIFAR-10 Batch 3:  Loss=0.018149 Accuracy=0.6792\n",
      "Epoch 45, CIFAR-10 Batch 4:  Loss=0.049029 Accuracy=0.7000\n",
      "Epoch 45, CIFAR-10 Batch 5:  Loss=0.030567 Accuracy=0.7058\n",
      "Epoch 46, CIFAR-10 Batch 1:  Loss=0.046688 Accuracy=0.6910\n",
      "Epoch 46, CIFAR-10 Batch 2:  Loss=0.030233 Accuracy=0.6932\n",
      "Epoch 46, CIFAR-10 Batch 3:  Loss=0.015966 Accuracy=0.6906\n",
      "Epoch 46, CIFAR-10 Batch 4:  Loss=0.022528 Accuracy=0.6950\n",
      "Epoch 46, CIFAR-10 Batch 5:  Loss=0.036772 Accuracy=0.7060\n",
      "Epoch 47, CIFAR-10 Batch 1:  Loss=0.052605 Accuracy=0.6924\n",
      "Epoch 47, CIFAR-10 Batch 2:  Loss=0.029520 Accuracy=0.6860\n",
      "Epoch 47, CIFAR-10 Batch 3:  Loss=0.015378 Accuracy=0.6880\n",
      "Epoch 47, CIFAR-10 Batch 4:  Loss=0.021232 Accuracy=0.6952\n",
      "Epoch 47, CIFAR-10 Batch 5:  Loss=0.023480 Accuracy=0.7022\n",
      "Epoch 48, CIFAR-10 Batch 1:  Loss=0.043725 Accuracy=0.6964\n",
      "Epoch 48, CIFAR-10 Batch 2:  Loss=0.024768 Accuracy=0.7008\n",
      "Epoch 48, CIFAR-10 Batch 3:  Loss=0.022111 Accuracy=0.6848\n",
      "Epoch 48, CIFAR-10 Batch 4:  Loss=0.039136 Accuracy=0.6938\n",
      "Epoch 48, CIFAR-10 Batch 5:  Loss=0.024732 Accuracy=0.7070\n",
      "Epoch 49, CIFAR-10 Batch 1:  Loss=0.042783 Accuracy=0.6884\n",
      "Epoch 49, CIFAR-10 Batch 2:  Loss=0.014961 Accuracy=0.6996\n",
      "Epoch 49, CIFAR-10 Batch 3:  Loss=0.008385 Accuracy=0.6858\n",
      "Epoch 49, CIFAR-10 Batch 4:  Loss=0.023150 Accuracy=0.6988\n",
      "Epoch 49, CIFAR-10 Batch 5:  Loss=0.038285 Accuracy=0.7040\n",
      "Epoch 50, CIFAR-10 Batch 1:  Loss=0.040830 Accuracy=0.6984\n",
      "Epoch 50, CIFAR-10 Batch 2:  Loss=0.015409 Accuracy=0.6870\n",
      "Epoch 50, CIFAR-10 Batch 3:  Loss=0.010156 Accuracy=0.6880\n",
      "Epoch 50, CIFAR-10 Batch 4:  Loss=0.022509 Accuracy=0.7056\n",
      "Epoch 50, CIFAR-10 Batch 5:  Loss=0.021555 Accuracy=0.7056\n"
     ]
    }
   ],
   "source": [
    "\"\"\"\n",
    "DON'T MODIFY ANYTHING IN THIS CELL\n",
    "\"\"\"\n",
    "save_model_path = './image_classification'\n",
    "\n",
    "print('Training...')\n",
    "with tf.Session() as sess:\n",
    "    # Initializing the variables\n",
    "    sess.run(tf.global_variables_initializer())\n",
    "    \n",
    "    # Training cycle\n",
    "    for epoch in range(epochs):\n",
    "        # Loop over all batches\n",
    "        n_batches = 5\n",
    "        for batch_i in range(1, n_batches + 1):\n",
    "            for batch_features, batch_labels in helper.load_preprocess_training_batch(batch_i, batch_size):\n",
    "                train_neural_network(sess, optimizer, keep_probability, batch_features, batch_labels)\n",
    "            print('Epoch {:>2}, CIFAR-10 Batch {}:  '.format(epoch + 1, batch_i), end='')\n",
    "            print_stats(sess, batch_features, batch_labels, cost, accuracy)\n",
    "            \n",
    "    # Save Model\n",
    "    saver = tf.train.Saver()\n",
    "    save_path = saver.save(sess, save_model_path)"
   ]
  },
  {
   "cell_type": "markdown",
   "metadata": {},
   "source": [
    "# Checkpoint\n",
    "The model has been saved to disk.\n",
    "## Test Model\n",
    "Test your model against the test dataset.  This will be your final accuracy. You should have an accuracy greater than 50%. If you don't, keep tweaking the model architecture and parameters."
   ]
  },
  {
   "cell_type": "code",
   "execution_count": 27,
   "metadata": {},
   "outputs": [
    {
     "name": "stdout",
     "output_type": "stream",
     "text": [
      "INFO:tensorflow:Restoring parameters from ./image_classification\n",
      "Testing Accuracy: 0.7009765625\n",
      "\n"
     ]
    },
    {
     "data": {
      "image/png": "[encoded data removed]",
      "text/plain": [
       "<matplotlib.figure.Figure at 0x7f3d1d9eb320>"
      ]
     },
     "metadata": {
      "image/png": {
       "height": 319,
       "width": 355
      }
     },
     "output_type": "display_data"
    }
   ],
   "source": [
    "\"\"\"\n",
    "DON'T MODIFY ANYTHING IN THIS CELL\n",
    "\"\"\"\n",
    "%matplotlib inline\n",
    "%config InlineBackend.figure_format = 'retina'\n",
    "\n",
    "import tensorflow as tf\n",
    "import pickle\n",
    "import helper\n",
    "import random\n",
    "\n",
    "# Set batch size if not already set\n",
    "try:\n",
    "    if batch_size:\n",
    "        pass\n",
    "except NameError:\n",
    "    batch_size = 64\n",
    "\n",
    "save_model_path = './image_classification'\n",
    "n_samples = 4\n",
    "top_n_predictions = 3\n",
    "\n",
    "def test_model():\n",
    "    \"\"\"\n",
    "    Test the saved model against the test dataset\n",
    "    \"\"\"\n",
    "\n",
    "    test_features, test_labels = pickle.load(open('preprocess_test.p', mode='rb'))\n",
    "    loaded_graph = tf.Graph()\n",
    "\n",
    "    with tf.Session(graph=loaded_graph) as sess:\n",
    "        # Load model\n",
    "        loader = tf.train.import_meta_graph(save_model_path + '.meta')\n",
    "        loader.restore(sess, save_model_path)\n",
    "\n",
    "        # Get Tensors from loaded model\n",
    "        loaded_x = loaded_graph.get_tensor_by_name('x:0')\n",
    "        loaded_y = loaded_graph.get_tensor_by_name('y:0')\n",
    "        loaded_keep_prob = loaded_graph.get_tensor_by_name('keep_prob:0')\n",
    "        loaded_logits = loaded_graph.get_tensor_by_name('logits:0')\n",
    "        loaded_acc = loaded_graph.get_tensor_by_name('accuracy:0')\n",
    "        \n",
    "        # Get accuracy in batches for memory limitations\n",
    "        test_batch_acc_total = 0\n",
    "        test_batch_count = 0\n",
    "        \n",
    "        for test_feature_batch, test_label_batch in helper.batch_features_labels(test_features, test_labels, batch_size):\n",
    "            test_batch_acc_total += sess.run(\n",
    "                loaded_acc,\n",
    "                feed_dict={loaded_x: test_feature_batch, loaded_y: test_label_batch, loaded_keep_prob: 1.0})\n",
    "            test_batch_count += 1\n",
    "\n",
    "        print('Testing Accuracy: {}\\n'.format(test_batch_acc_total/test_batch_count))\n",
    "\n",
    "        # Print Random Samples\n",
    "        random_test_features, random_test_labels = tuple(zip(*random.sample(list(zip(test_features, test_labels)), n_samples)))\n",
    "        random_test_predictions = sess.run(\n",
    "            tf.nn.top_k(tf.nn.softmax(loaded_logits), top_n_predictions),\n",
    "            feed_dict={loaded_x: random_test_features, loaded_y: random_test_labels, loaded_keep_prob: 1.0})\n",
    "        helper.display_image_predictions(random_test_features, random_test_labels, random_test_predictions)\n",
    "\n",
    "\n",
    "test_model()"
   ]
  },
  {
   "cell_type": "markdown",
   "metadata": {},
   "source": [
    "## Why 50-80% Accuracy?\n",
    "You might be wondering why you can't get an accuracy any higher. First things first, 50% isn't bad for a simple CNN.  Pure guessing would get you 10% accuracy. However, you might notice people are getting scores [well above 80%](http://rodrigob.github.io/are_we_there_yet/build/classification_datasets_results.html#43494641522d3130).  That's because we haven't taught you all there is to know about neural networks. We still need to cover a few more techniques.\n",
    "## Submitting This Project\n",
    "When submitting this project, make sure to run all the cells before saving the notebook.  Save the notebook file as \"dlnd_image_classification.ipynb\" and save it as a HTML file under \"File\" -> \"Download as\".  Include the \"helper.py\" and \"problem_unittests.py\" files in your submission."
   ]
  },
  {
   "cell_type": "code",
   "execution_count": null,
   "metadata": {
    "collapsed": true
   },
   "outputs": [],
   "source": []
  }
 ],
 "metadata": {
  "kernelspec": {
   "display_name": "Python 3",
   "language": "python",
   "name": "python3"
  },
  "language_info": {
   "codemirror_mode": {
    "name": "ipython",
    "version": 3
   },
   "file_extension": ".py",
   "mimetype": "text/x-python",
   "name": "python",
   "nbconvert_exporter": "python",
   "pygments_lexer": "ipython3",
   "version": "3.5.3"
  }
 },
 "nbformat": 4,
 "nbformat_minor": 1
}
